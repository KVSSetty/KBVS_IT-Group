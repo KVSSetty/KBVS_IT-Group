{
 "cells": [
  {
   "cell_type": "markdown",
   "metadata": {},
   "source": [
    "**Statistics** is the discipline that concerns the \n",
    "- collection of data.\n",
    "- organization of data. ( Usually Data Engineers portfolio )\n",
    "- analysis of data.\n",
    "- interpretation of data.\n",
    "- presentation of data.  (Presentation of analysis results)\n",
    "\n"
   ]
  },
  {
   "cell_type": "markdown",
   "metadata": {},
   "source": [
    "In one sentence:\n",
    "\n",
    ">**Statistics** is the discipline that concerns the collection, organization, analysis, interpretation and presentation of **data**."
   ]
  },
  {
   "cell_type": "markdown",
   "metadata": {},
   "source": [
    "statistics can be used for the study of scientific, industrial, or social problem. \n",
    "it is conventional to begin statistical studies with:\n",
    "1. **a statistical population**\n",
    "### or\n",
    "2. **a statistical model** "
   ]
  },
  {
   "cell_type": "markdown",
   "metadata": {},
   "source": [
    "-----"
   ]
  },
  {
   "cell_type": "markdown",
   "metadata": {},
   "source": [
    "What is **Population** ?"
   ]
  },
  {
   "cell_type": "markdown",
   "metadata": {},
   "source": [
    "Populations can be diverse groups of people or objects such as \"all people living in a country\" or \"every atom composing a crystal\".\n",
    "\n",
    "Thus population includes (data about) all the objects or items you are interested in,no element or item left out.\n",
    "so no need of any modeling requried. you can just the data to draw conlusions."
   ]
  },
  {
   "cell_type": "markdown",
   "metadata": {},
   "source": [
    "So in summary:\n",
    "    \n",
    ">**Statistics** deals with every aspect of **data**, including the planning of data collection in terms of the design of **surveys** and **experiments**."
   ]
  },
  {
   "cell_type": "markdown",
   "metadata": {},
   "source": [
    "-------"
   ]
  },
  {
   "cell_type": "markdown",
   "metadata": {},
   "source": [
    "# 01 Data Collection"
   ]
  },
  {
   "cell_type": "markdown",
   "metadata": {},
   "source": [
    "When census (population) data cannot be collected, statisticians **Design a Experiment** and using it collect **samples** data rather than population data"
   ]
  },
  {
   "cell_type": "markdown",
   "metadata": {},
   "source": [
    "**DOE: Design of Experiment** is a separate subject in itself and studied extensively as a separate subject topic in statistics."
   ]
  },
  {
   "cell_type": "markdown",
   "metadata": {},
   "source": [
    "- When DOE is good  ie propely designed:\n",
    "- you get a **Represntative Sample**\n",
    "\n",
    "and a reprentative sample:\n",
    "- Assures that inferences and conclusions drawn from sample data can reasonably extended to the population as a whole."
   ]
  },
  {
   "cell_type": "markdown",
   "metadata": {},
   "source": [
    "There are two statistical studies:\n",
    "1. experimental study\n",
    "2. observational study\n",
    "\n",
    "what is the difference?\n",
    "\n",
    ">An **experimental study** involves taking measurements of the system under study, manipulating the system, and then taking additional measurements using the same procedure to determine if the manipulation has modified the values of the measurements. In contrast, an **observational study** does not involve experimental manipulation.\n",
    "    "
   ]
  },
  {
   "cell_type": "markdown",
   "metadata": {},
   "source": [
    "------------------------------------"
   ]
  },
  {
   "cell_type": "markdown",
   "metadata": {},
   "source": [
    "## 02 Data Analysis:"
   ]
  },
  {
   "cell_type": "markdown",
   "metadata": {},
   "source": [
    "Two main statistical methods are used in data analysis:\n",
    "1. **Descriptive statistics:**\n",
    "2. **Inferential Statistics**"
   ]
  },
  {
   "cell_type": "markdown",
   "metadata": {},
   "source": [
    "### Descriptive Statistics\n",
    "which summarize data from a sample using indexes such as the **mean** or **standard deviation**, \n",
    "\n",
    "Descriptive statistics are most often concerned with two sets of properties of a distribution (sample or population):\n",
    "- **Central tendency (or location):** \n",
    "seeks to characterize the distribution's central or typical value\n",
    "- **Dispersion (or variability)** \n",
    "characterizes the extent to which members of the distribution depart from its center and each other\n",
    "\n",
    "Two other important measures of a dataset /distribution  are **skewness** and **kurtosis** which will be delt later.\n",
    "\n",
    "**Skewness**: a measure of the asymmetry of the probability distribution of a real-valued random variable about its mean.The skewness value can be positive, zero, negative, or undefined.\n",
    "\n",
    "**Kurtosis**: In probability theory and statistics, kurtosis is a measure of the \"tailedness\" of the probability distribution of a real-valued random variable. \n",
    "\n",
    "Note all four measures of a distribution:\n",
    "1. Central tendency (location measure): common measures(mode,mean,median)\n",
    "2. Dispersion (spread,variability, scale) common measures (variance, iqr, standard deviation, MAD )\n",
    "3. Skewness\n",
    "4. Kurtosis\n",
    "\n",
    "are important parameters that deterimine the shapr of a distributions."
   ]
  },
  {
   "cell_type": "markdown",
   "metadata": {},
   "source": [
    "Explain all the four with respect below important distribution called Normal Distribution or Gaussian distribution and few other distributions"
   ]
  },
  {
   "cell_type": "markdown",
   "metadata": {},
   "source": [
    "![normal-distribution-plot](normal-distribution-plot.png)"
   ]
  },
  {
   "cell_type": "markdown",
   "metadata": {},
   "source": [
    "### Inferential statistics\n",
    "\n",
    "Which draw conclusions from data that are subject to random variation (e.g., observational errors, sampling variation).\n",
    "\n",
    "Inferences on mathematical statistics are made under the framework of probability theory, which deals with the analysis of random phenomena."
   ]
  },
  {
   "cell_type": "markdown",
   "metadata": {},
   "source": [
    "Measurement processes that generate statistical data are also subject to error. Many of these errors are classified as random (noise) or systematic (bias), but other types of errors (e.g., blunder, such as when an analyst reports incorrect units) can also occur. The presence of missing data or censoring may result in biased estimates and specific techniques have been developed to address these problems."
   ]
  },
  {
   "cell_type": "markdown",
   "metadata": {},
   "source": [
    "Note on apart from descrptive statistics and inference statistics\n",
    "new fields\n",
    "- statistical learning\n",
    "- statistical prediction models\n",
    "- statistical generative models"
   ]
  },
  {
   "cell_type": "markdown",
   "metadata": {},
   "source": [
    "----"
   ]
  },
  {
   "cell_type": "markdown",
   "metadata": {},
   "source": [
    "# A General Statistical Procedure : (Hypothesis Testing)"
   ]
  },
  {
   "cell_type": "markdown",
   "metadata": {},
   "source": [
    "A standard statistical procedure involves the collection of data leading to test of the relationship between two statistical data sets, or a data set and synthetic data drawn from an idealized model. A hypothesis is proposed for the statistical relationship between the two data sets, and this is compared as an alternative to an idealized null hypothesis of no relationship between two data sets. Rejecting or disproving the null hypothesis is done using statistical tests that quantify the sense in which the null can be proven false, given the data that are used in the test. Working from a null hypothesis, two basic forms of error are recognized: Type I errors (null hypothesis is falsely rejected giving a \"false positive\") and Type II errors (null hypothesis fails to be rejected and an actual relationship between populations is missed giving a \"false negative\").[6] Multiple problems have come to be associated with this framework, ranging from obtaining a sufficient sample size to specifying an adequate null hypothesis."
   ]
  },
  {
   "cell_type": "code",
   "execution_count": null,
   "metadata": {},
   "outputs": [],
   "source": []
  }
 ],
 "metadata": {
  "kernelspec": {
   "display_name": "Python 3",
   "language": "python",
   "name": "python3"
  },
  "language_info": {
   "codemirror_mode": {
    "name": "ipython",
    "version": 3
   },
   "file_extension": ".py",
   "mimetype": "text/x-python",
   "name": "python",
   "nbconvert_exporter": "python",
   "pygments_lexer": "ipython3",
   "version": "3.8.5"
  }
 },
 "nbformat": 4,
 "nbformat_minor": 4
}
